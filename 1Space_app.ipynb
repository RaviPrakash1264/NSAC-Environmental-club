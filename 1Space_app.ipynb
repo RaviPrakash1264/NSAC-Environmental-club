{
  "nbformat": 4,
  "nbformat_minor": 0,
  "metadata": {
    "colab": {
      "name": "Space_app.ipynb",
      "provenance": [],
      "collapsed_sections": [],
      "toc_visible": true,
      "machine_shape": "hm"
    },
    "kernelspec": {
      "name": "python3",
      "display_name": "Python 3"
    }
  },
  "cells": [
    {
      "cell_type": "markdown",
      "metadata": {
        "id": "0MRC0e0KhQ0S"
      },
      "source": [
        "# K-Nearest Neighbors (K-NN)"
      ]
    },
    {
      "cell_type": "markdown",
      "metadata": {
        "id": "LWd1UlMnhT2s"
      },
      "source": [
        "## Importing the libraries"
      ]
    },
    {
      "cell_type": "code",
      "metadata": {
        "id": "YvGPUQaHhXfL"
      },
      "source": [
        "import numpy as np\n",
        "import matplotlib.pyplot as plt\n",
        "import pandas as pd"
      ],
      "execution_count": 32,
      "outputs": []
    },
    {
      "cell_type": "markdown",
      "metadata": {
        "id": "K1VMqkGvhc3-"
      },
      "source": [
        "## Importing the dataset"
      ]
    },
    {
      "cell_type": "code",
      "metadata": {
        "id": "M52QDmyzhh9s"
      },
      "source": [
        "dataset = pd.read_csv('Covid19.csv')\n",
        "X = dataset.iloc[:,2:-1].values\n",
        "y = dataset.iloc[:, -1].values"
      ],
      "execution_count": 33,
      "outputs": []
    },
    {
      "cell_type": "markdown",
      "metadata": {
        "id": "YvxIPVyMhmKp"
      },
      "source": [
        "## Splitting the dataset into the Training set and Test set"
      ]
    },
    {
      "cell_type": "code",
      "metadata": {
        "id": "AVzJWAXIhxoC"
      },
      "source": [
        "from sklearn.model_selection import train_test_split\n",
        "X_train, X_test, y_train, y_test = train_test_split(X, y, test_size = 0.25, random_state = 0)"
      ],
      "execution_count": 34,
      "outputs": []
    },
    {
      "cell_type": "code",
      "metadata": {
        "id": "P3nS3-6r1i2B",
        "outputId": "2ff33d1b-9287-449b-b6c3-4efc5f559026",
        "colab": {
          "base_uri": "https://localhost:8080/",
          "height": 134
        }
      },
      "source": [
        "print(X_train)"
      ],
      "execution_count": 35,
      "outputs": [
        {
          "output_type": "stream",
          "text": [
            "[[1.1269e+02 2.7243e+02 3.2420e+01 ... 0.0000e+00 0.0000e+00 3.2000e+02]\n",
            " [7.3360e+01 1.1002e+02 8.4580e+01 ... 1.5800e+01 2.3000e-01 2.6200e+02]\n",
            " [1.0258e+02 1.0302e+02 6.1900e+01 ... 5.7860e+01 0.0000e+00 2.7200e+02]\n",
            " ...\n",
            " [6.3000e+01 2.2640e+02 6.5000e-01 ... 1.6100e+01 2.5900e+00 1.5200e+02]\n",
            " [4.6914e+02 4.6180e+01 1.3220e+01 ... 2.0420e+01 7.0800e+00 1.5500e+02]\n",
            " [2.5560e+01 1.5137e+02 2.0870e+01 ... 2.1500e+00 4.1000e-01 3.6200e+02]]\n"
          ],
          "name": "stdout"
        }
      ]
    },
    {
      "cell_type": "code",
      "metadata": {
        "id": "8dpDLojm1mVG",
        "outputId": "96f7fc89-90a1-4a70-ff8e-a69a446b03b3",
        "colab": {
          "base_uri": "https://localhost:8080/",
          "height": 34
        }
      },
      "source": [
        "print(y_train)"
      ],
      "execution_count": 36,
      "outputs": [
        {
          "output_type": "stream",
          "text": [
            "[0. 0. 0. ... 1. 1. 0.]\n"
          ],
          "name": "stdout"
        }
      ]
    },
    {
      "cell_type": "code",
      "metadata": {
        "id": "qbb7i0DH1qui",
        "outputId": "8b243799-fb6d-43ae-da7f-b60224192aa3",
        "colab": {
          "base_uri": "https://localhost:8080/",
          "height": 134
        }
      },
      "source": [
        "print(X_test)"
      ],
      "execution_count": 37,
      "outputs": [
        {
          "output_type": "stream",
          "text": [
            "[[1.1801e+02 3.1690e+02 1.9690e+01 ... 1.3610e+01 9.8000e-01 4.1700e+02]\n",
            " [3.6380e+01 9.6880e+01 2.2140e+01 ... 1.5350e+01 2.1000e-01 3.1800e+02]\n",
            " [8.4910e+01 7.6930e+01 2.0420e+01 ... 3.1200e+00 0.0000e+00 1.4400e+02]\n",
            " ...\n",
            " [7.3300e+01 7.7840e+01 1.0510e+01 ... 7.5300e+00 4.4700e+00 1.9900e+02]\n",
            " [1.3260e+02 3.4811e+02 2.3880e+01 ... 8.0300e+00 5.0000e-02 1.9400e+02]\n",
            " [4.6840e+01 1.8870e+02 3.9900e+00 ... 0.0000e+00 1.3000e-01 2.6100e+02]]\n"
          ],
          "name": "stdout"
        }
      ]
    },
    {
      "cell_type": "code",
      "metadata": {
        "id": "kj1hnFAR1s5w",
        "outputId": "230bf904-4f5d-4db2-b574-e2468be07c22",
        "colab": {
          "base_uri": "https://localhost:8080/",
          "height": 34
        }
      },
      "source": [
        "print(y_test)"
      ],
      "execution_count": 38,
      "outputs": [
        {
          "output_type": "stream",
          "text": [
            "[0. 0. 1. ... 1. 1. 0.]\n"
          ],
          "name": "stdout"
        }
      ]
    },
    {
      "cell_type": "markdown",
      "metadata": {
        "id": "kW3c7UYih0hT"
      },
      "source": [
        "## Feature Scaling"
      ]
    },
    {
      "cell_type": "code",
      "metadata": {
        "id": "9fQlDPKCh8sc"
      },
      "source": [
        "from sklearn.preprocessing import StandardScaler\n",
        "sc = StandardScaler()\n",
        "X_train = sc.fit_transform(X_train)\n",
        "X_test = sc.transform(X_test)"
      ],
      "execution_count": 39,
      "outputs": []
    },
    {
      "cell_type": "code",
      "metadata": {
        "id": "syrnD1Op2BSR",
        "outputId": "ff6a597c-fb41-4377-b118-212b61ae20da",
        "colab": {
          "base_uri": "https://localhost:8080/",
          "height": 235
        }
      },
      "source": [
        "print(X_train)"
      ],
      "execution_count": 40,
      "outputs": [
        {
          "output_type": "stream",
          "text": [
            "[[ 1.17566462e-01  4.81544586e-01 -2.97907008e-02 ... -6.29680505e-01\n",
            "  -3.71160111e-01  7.24859957e-01]\n",
            " [-3.40720505e-01 -6.90630020e-01  1.14910947e+00 ... -1.70764532e-01\n",
            "  -3.36605966e-01  2.91636443e-01]\n",
            " [-2.38807383e-04 -7.41151676e-01  6.36504869e-01 ...  1.05088141e+00\n",
            "  -3.71160111e-01  3.66330152e-01]\n",
            " ...\n",
            " [-4.61438862e-01  1.49328607e-01 -7.47843965e-01 ... -1.62050938e-01\n",
            "   1.79496064e-02 -5.29994359e-01]\n",
            " [ 4.27104700e+00 -1.15138753e+00 -4.63741682e-01 ... -3.65751781e-02\n",
            "   6.92506606e-01 -5.07586247e-01]\n",
            " [-8.97702886e-01 -3.92191377e-01 -2.90839338e-01 ... -5.67233078e-01\n",
            "  -3.09563592e-01  1.03857354e+00]]\n"
          ],
          "name": "stdout"
        }
      ]
    },
    {
      "cell_type": "code",
      "metadata": {
        "id": "JUd6iBRp2C3L",
        "outputId": "ec257e0e-d388-4276-e71d-ab4ac800079c",
        "colab": {
          "base_uri": "https://localhost:8080/",
          "height": 235
        }
      },
      "source": [
        "print(X_test)"
      ],
      "execution_count": 41,
      "outputs": [
        {
          "output_type": "stream",
          "text": [
            "[[ 0.17955697  0.80250145 -0.31750924 ... -0.23437377 -0.22392941\n",
            "   1.44938894]\n",
            " [-0.77162445 -0.78546639 -0.26213529 ... -0.18383492 -0.33961067\n",
            "   0.70992121]\n",
            " [-0.20613585 -0.92945311 -0.30101006 ... -0.53905912 -0.37116011\n",
            "  -0.58974933]\n",
            " ...\n",
            " [-0.34141965 -0.92288529 -0.52499206 ... -0.41096929  0.30039218\n",
            "  -0.17893393]\n",
            " [ 0.34956477  1.02775587 -0.22280848 ... -0.39644663 -0.36364834\n",
            "  -0.21628078]\n",
            " [-0.64974086 -0.1227666  -0.67235458 ... -0.6296805  -0.35162951\n",
            "   0.28416707]]\n"
          ],
          "name": "stdout"
        }
      ]
    },
    {
      "cell_type": "markdown",
      "metadata": {
        "id": "bb6jCOCQiAmP"
      },
      "source": [
        "## Training the K-NN model on the Training set"
      ]
    },
    {
      "cell_type": "code",
      "metadata": {
        "id": "e0pFVAmciHQs",
        "outputId": "7ac0021a-96bd-43bb-ad96-652202d57651",
        "colab": {
          "base_uri": "https://localhost:8080/",
          "height": 67
        }
      },
      "source": [
        "from sklearn.neighbors import KNeighborsClassifier\n",
        "classifier = KNeighborsClassifier(n_neighbors = 5, metric = 'minkowski', p = 2)\n",
        "classifier.fit(X_train, y_train)"
      ],
      "execution_count": 42,
      "outputs": [
        {
          "output_type": "execute_result",
          "data": {
            "text/plain": [
              "KNeighborsClassifier(algorithm='auto', leaf_size=30, metric='minkowski',\n",
              "                     metric_params=None, n_jobs=None, n_neighbors=5, p=2,\n",
              "                     weights='uniform')"
            ]
          },
          "metadata": {
            "tags": []
          },
          "execution_count": 42
        }
      ]
    },
    {
      "cell_type": "markdown",
      "metadata": {
        "id": "yyxW5b395mR2"
      },
      "source": [
        "## Predicting a new result"
      ]
    },
    {
      "cell_type": "code",
      "metadata": {
        "id": "f8YOXsQy58rP",
        "outputId": "d44e5727-0f1a-45b2-e249-561e286f4c96",
        "colab": {
          "base_uri": "https://localhost:8080/",
          "height": 34
        }
      },
      "source": [
        "print(classifier.predict(sc.transform([[300.21,286.05,32.28,63.06,27.87,56.35,1.32,16.08,13.54,0.56,0,2.42,276]])))"
      ],
      "execution_count": 43,
      "outputs": [
        {
          "output_type": "stream",
          "text": [
            "[0.]\n"
          ],
          "name": "stdout"
        }
      ]
    }
  ]
}